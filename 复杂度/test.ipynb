{
 "cells": [
  {
   "cell_type": "code",
   "execution_count": 4,
   "metadata": {
    "collapsed": true,
    "pycharm": {
     "name": "#%%\n"
    }
   },
   "outputs": [
    {
     "data": {
      "text/plain": "['大O表示法',\n '一般用大O表示法，对应规模n对应的复杂度。',\n '忽略低阶，常数，系数。',\n '',\n 'i ++    on',\n 'i /2    logn',\n 'i += i  logn',\n 'i *= 2  logn',\n '',\n '注：i +=1 i = i+ 1  都是一次',\n '   i += i i = i*2   logn',\n '',\n '1 <  logn < n < nlogn < n2 < n3 < 2^n',\n '',\n '',\n '',\n '优化方向：佣金可能少的存储空间，尽可能少的计算次数',\n '具体的业务要求中，牺牲时间换空间，牺牲空间换时间。',\n '',\n '多个数据规模的情况：',\n 'for i in range(n):',\n '    pass',\n 'for j in range(k):',\n '    pass',\n 'O(n+k)',\n '',\n '',\n '最好最坏复杂度',\n '均摊复杂度',\n '复杂度震荡',\n '平均复杂度']"
     },
     "execution_count": 4,
     "metadata": {},
     "output_type": "execute_result"
    }
   ],
   "source": [
    "with open(\"复杂度\",encoding=\"utf-8\") as f:\n",
    "    data = f.read().split(\"\\n\")\n",
    "data"
   ]
  },
  {
   "cell_type": "code",
   "execution_count": null,
   "outputs": [],
   "source": [],
   "metadata": {
    "collapsed": false,
    "pycharm": {
     "name": "#%%\n"
    }
   }
  }
 ],
 "metadata": {
  "kernelspec": {
   "name": "pycharm-f694c576",
   "language": "python",
   "display_name": "PyCharm (数据结构)"
  },
  "language_info": {
   "codemirror_mode": {
    "name": "ipython",
    "version": 2
   },
   "file_extension": ".py",
   "mimetype": "text/x-python",
   "name": "python",
   "nbconvert_exporter": "python",
   "pygments_lexer": "ipython2",
   "version": "2.7.6"
  }
 },
 "nbformat": 4,
 "nbformat_minor": 0
}